{
  "nbformat": 4,
  "nbformat_minor": 0,
  "metadata": {
    "colab": {
      "provenance": [],
      "authorship_tag": "ABX9TyPpZw7RTKohMNd/WbbxN5n/",
      "include_colab_link": true
    },
    "kernelspec": {
      "name": "python3",
      "display_name": "Python 3"
    },
    "language_info": {
      "name": "python"
    }
  },
  "cells": [
    {
      "cell_type": "markdown",
      "metadata": {
        "id": "view-in-github",
        "colab_type": "text"
      },
      "source": [
        "<a href=\"https://colab.research.google.com/github/dbremont/algorithms/blob/main/src/array.ipynb\" target=\"_parent\"><img src=\"https://colab.research.google.com/assets/colab-badge.svg\" alt=\"Open In Colab\"/></a>"
      ]
    },
    {
      "cell_type": "markdown",
      "source": [
        "# Sequence Data Structures\n",
        "\n",
        "Array"
      ],
      "metadata": {
        "id": "SKE0R7Mw0T13"
      }
    },
    {
      "cell_type": "code",
      "source": [
        "class Array:\n",
        "  \"\"\"\n",
        "    A class that represents an array data structure.\n",
        "\n",
        "    Attributes:\n",
        "    ----------\n",
        "    A : list\n",
        "        A list that holds the elements of the array.\n",
        "    size : int\n",
        "        An integer that represents the size of the array.\n",
        "\n",
        "    Methods:\n",
        "    -------\n",
        "    __len__()\n",
        "        Returns the size of the array.\n",
        "    __iter__()\n",
        "        Returns an iterator over the elements of the array.\n",
        "    build(X)\n",
        "        Takes a list X and builds the array with its elements.\n",
        "    get_at(i)\n",
        "        Returns the element at the given index i.\n",
        "    set_at(i, x)\n",
        "        Sets the element at the given index i to x.\n",
        "    insert_at(i, x)\n",
        "        Inserts element x at the given index i.\n",
        "    delete_at(i)\n",
        "        Deletes the element at the given index i and returns it.\n",
        "    insert_first(x)\n",
        "        Inserts element x at the beginning of the array.\n",
        "    delete_first()\n",
        "        Deletes the first element of the array and returns it.\n",
        "    insert_last(x)\n",
        "        Inserts element x at the end of the array.\n",
        "    delete_last()\n",
        "        Deletes the last element of the array and returns it.\n",
        "    \"\"\"\n",
        "\n",
        "  def __init__(self):\n",
        "    self.A = []\n",
        "    self.size  = 0\n",
        "\n",
        "  def __len__(self):  return self.size\n",
        "  def __iter__(self): yield from self.A\n",
        "\n",
        "  def build(self, X):\n",
        "    self.A  = [a for a in X]\n",
        "    self.sizse  = len(self.A)\n",
        "  \n",
        "  def get_at(self, i): return self.A[i]\n",
        "\n",
        "  def set_at(self, i, x): self.A[i] = x\n",
        "\n",
        "  def __copy__foward(self, i, n, A, j):\n",
        "    for k in range(n):\n",
        "      A[j + k] = self.A[i + k]\n",
        "\n",
        "  def insert_at(self, i, x):\n",
        "    n = len(self)\n",
        "    A = [None] * (n + 1)\n",
        "    self._copy_foward_(0, i, A, 0)\n",
        "    A[i] = x\n",
        "    self.__copy_foward(i, n-i, A, i, i + 1)\n",
        "    self.build(A)\n",
        "\n",
        "  def delete_at(self, i):\n",
        "     n  = len(self)\n",
        "     A = [None] * (n - 1)\n",
        "     self.__copy__foward(0, i,  A, 0)\n",
        "     x = self.A[i]\n",
        "     self.__self__foward(i  + 1, n - i - 1, A, i)\n",
        "     return x\n",
        "  \n",
        "  def insert_first(self, x): return self.insert_at(0, x)\n",
        "  def delete_first(self, x): return self.delete_at(0, x)\n",
        "  def insert_last(self, x): return self.insert_at(len(self), x)\n",
        "  def delete_last(self, x): return self.delete_at(len(self), x)"
      ],
      "metadata": {
        "id": "lWVTDtOF00IL"
      },
      "execution_count": 6,
      "outputs": []
    },
    {
      "cell_type": "markdown",
      "source": [
        "## Use"
      ],
      "metadata": {
        "id": "lIkN7_kA6yr9"
      }
    },
    {
      "cell_type": "markdown",
      "source": [
        "## Analysis"
      ],
      "metadata": {
        "id": "z9rEgrCK60n6"
      }
    },
    {
      "cell_type": "markdown",
      "source": [
        "## Thread Safety"
      ],
      "metadata": {
        "id": "IgovX5VK625K"
      }
    }
  ]
}